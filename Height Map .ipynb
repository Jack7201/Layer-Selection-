{
 "cells": [
  {
   "cell_type": "code",
   "execution_count": 1,
   "id": "44b0f25b",
   "metadata": {},
   "outputs": [
    {
     "name": "stdout",
     "output_type": "stream",
     "text": [
      "[[20. 20. 20. ... 20. 20. 20.]\n",
      " [20. 20. 20. ... 20. 20. 20.]\n",
      " [20. 20. 20. ... 20. 20. 20.]\n",
      " ...\n",
      " [20. 20. 20. ... 20. 20. 20.]\n",
      " [20. 20. 20. ... 20. 20. 20.]\n",
      " [20. 20. 20. ... 20. 20. 20.]]\n"
     ]
    }
   ],
   "source": [
    "import numpy as np\n",
    "import stl\n",
    "from stl import mesh\n",
    "\n",
    "# Load STL file and convert to numpy array\n",
    "stl_mesh = mesh.Mesh.from_file('cube_sample.stl')\n",
    "vertices = stl_mesh.vectors.reshape(-1, 3)\n",
    "\n",
    "# Calculate the minimum and maximum x, y, and z coordinates\n",
    "x_min, y_min, z_min = np.min(vertices, axis=0)\n",
    "x_max, y_max, z_max = np.max(vertices, axis=0)\n",
    "\n",
    "# Define the resolution of the height map\n",
    "resolution = 100\n",
    "\n",
    "# Generate a grid of x and y values\n",
    "x = np.linspace(x_min, x_max, resolution)\n",
    "y = np.linspace(y_min, y_max, resolution)\n",
    "X, Y = np.meshgrid(x, y)\n",
    "\n",
    "# Interpolate the z values at each point in the grid\n",
    "from scipy.interpolate import griddata\n",
    "Z = griddata(vertices[:, :2], vertices[:, 2], (X, Y), method='linear')\n",
    "\n",
    "# Smooth the height map\n",
    "from scipy.ndimage import gaussian_filter\n",
    "Z_smooth = gaussian_filter(Z, sigma=2)\n",
    "\n",
    "# Save the height map to a file\n",
    "np.save('height_map.npy', Z_smooth)\n",
    "\n",
    "# Load the height map from a file\n",
    "height_map = np.load('height_map.npy')\n",
    "\n",
    "print(height_map)"
   ]
  },
  {
   "cell_type": "code",
   "execution_count": null,
   "id": "332fe47f",
   "metadata": {},
   "outputs": [],
   "source": []
  }
 ],
 "metadata": {
  "kernelspec": {
   "display_name": "Python 3 (ipykernel)",
   "language": "python",
   "name": "python3"
  },
  "language_info": {
   "codemirror_mode": {
    "name": "ipython",
    "version": 3
   },
   "file_extension": ".py",
   "mimetype": "text/x-python",
   "name": "python",
   "nbconvert_exporter": "python",
   "pygments_lexer": "ipython3",
   "version": "3.10.9"
  }
 },
 "nbformat": 4,
 "nbformat_minor": 5
}
