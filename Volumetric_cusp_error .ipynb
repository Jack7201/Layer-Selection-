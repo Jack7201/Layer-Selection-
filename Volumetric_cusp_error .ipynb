{
 "cells": [
  {
   "cell_type": "code",
   "execution_count": 1,
   "id": "a68a584e",
   "metadata": {},
   "outputs": [],
   "source": [
    "import numpy as np"
   ]
  },
  {
   "cell_type": "code",
   "execution_count": 2,
   "id": "e341dcc9",
   "metadata": {},
   "outputs": [],
   "source": [
    "# Define a simple height map\n",
    "height_map = np.array([\n",
    "    [0.00, 0.01, 0.02, 0.03, 0.04],\n",
    "    [0.05, 0.06, 0.07, 0.08, 0.09],\n",
    "    [0.10, 0.11, 0.12, 0.13, 0.14],\n",
    "    [0.15, 0.16, 0.17, 0.18, 0.19],\n",
    "    [0.20, 0.21, 0.22, 0.23, 0.24]\n",
    "])\n",
    "\n",
    "# Define the pixel size in meters\n",
    "pixel_size = 0.1e-3  # 0.1 mm"
   ]
  },
  {
   "cell_type": "code",
   "execution_count": 3,
   "id": "90abcbaf",
   "metadata": {},
   "outputs": [],
   "source": [
    "def calculate_cusp_error(height_map, pixel_size):\n",
    "\n",
    "    # Calculate the gradient of the height map\n",
    "    dzdx, dzdy = np.gradient(height_map, pixel_size)\n",
    "\n",
    "    # Calculate the second derivatives of the height map\n",
    "    d2zdxdy, d2zdx2 = np.gradient(dzdx, pixel_size)\n",
    "    d2zdydx, d2zdy2 = np.gradient(dzdy, pixel_size)\n",
    "\n",
    "    # Calculate the volumetric cusp error\n",
    "    cusp_error = (d2zdx2 + d2zdy2) ** 2 + 4 * (d2zdxdy - d2zdydx) ** 2\n",
    "\n",
    "    # Multiply by the pixel area to get the volumetric cusp error in cubic meters\n",
    "    cusp_error *= pixel_size ** 4\n",
    "\n",
    "    return np.sum(cusp_error)"
   ]
  },
  {
   "cell_type": "code",
   "execution_count": 4,
   "id": "8be56657",
   "metadata": {},
   "outputs": [
    {
     "data": {
      "text/plain": [
       "'Calculates the volumetric cusp error of an additive manufacturing process from a given height map.\\n\\nArgs:\\n    height_map: A 2D numpy array representing the height map of the printed object in meters.\\n    pixel_size: The size of a pixel in the height map in meters.\\n\\nReturns:\\n    The volumetric cusp error in cubic meters.'"
      ]
     },
     "execution_count": 4,
     "metadata": {},
     "output_type": "execute_result"
    }
   ],
   "source": [
    "\n",
    "    '''Calculates the volumetric cusp error of an additive manufacturing process from a given height map.\n",
    "\n",
    "    Args:\n",
    "        height_map: A 2D numpy array representing the height map of the printed object in meters.\n",
    "        pixel_size: The size of a pixel in the height map in meters.\n",
    "\n",
    "    Returns:\n",
    "        The volumetric cusp error in cubic meters.'''"
   ]
  },
  {
   "cell_type": "code",
   "execution_count": 5,
   "id": "33a403f5",
   "metadata": {},
   "outputs": [],
   "source": [
    "#calculate_cusp_error(30, 60)"
   ]
  },
  {
   "cell_type": "code",
   "execution_count": 6,
   "id": "46fd6837",
   "metadata": {},
   "outputs": [],
   "source": [
    "#To use this code, you would need to provide a height map of the printed object and the size of a pixel in the height map in meters.\n",
    "#The calculate_cusp_error function uses NumPy to calculate the gradient and second derivatives of the height map, and then applies the volumetric cusp error formula to each pixel.\n",
    "#Finally, it sums up all the cusp errors to get the total volumetric cusp error in cubic meters."
   ]
  },
  {
   "cell_type": "code",
   "execution_count": 7,
   "id": "ed67eb89",
   "metadata": {},
   "outputs": [],
   "source": [
    "import numpy as np\n",
    "\n",
    "def calculate_cusp_error_layer(layer_height_map, pixel_size):\n",
    "    \"\"\"\n",
    "    Calculates the volumetric cusp error of a layer in an additive manufacturing process from a given height map.\n",
    "\n",
    "    Args:\n",
    "        layer_height_map: A 2D numpy array representing the height map of the printed layer in meters.\n",
    "        pixel_size: The size of a pixel in the height map in meters.\n",
    "\n",
    "    Returns:\n",
    "        The volumetric cusp error in cubic millimeters.\n",
    "    \"\"\"\n",
    "    # Calculate the gradient of the height map\n",
    "    dzdx, dzdy = np.gradient(layer_height_map, pixel_size)\n",
    "\n",
    "    # Calculate the second derivatives of the height map\n",
    "    d2zdxdy, d2zdx2 = np.gradient(dzdx, pixel_size)\n",
    "    d2zdydx, d2zdy2 = np.gradient(dzdy, pixel_size)\n",
    "\n",
    "    # Calculate the volumetric cusp error in cubic meters\n",
    "    cusp_error = (d2zdx2 + d2zdy2) ** 2 + 4 * (d2zdxdy - d2zdydx) ** 2\n",
    "    cusp_error *= pixel_size ** 4\n",
    "\n",
    "    # Convert the volumetric cusp error to cubic millimeters\n",
    "    cusp_error *= 1e9\n",
    "\n",
    "    return np.sum(cusp_error)"
   ]
  },
  {
   "cell_type": "code",
   "execution_count": 8,
   "id": "7f995ecc",
   "metadata": {},
   "outputs": [
    {
     "name": "stdout",
     "output_type": "stream",
     "text": [
      "Volumetric cusp error: 2.466294734082972e-23 mm^3\n"
     ]
    }
   ],
   "source": [
    "# Calculate the volumetric cusp error\n",
    "cusp_error = calculate_cusp_error_layer(height_map, pixel_size)\n",
    "\n",
    "print(\"Volumetric cusp error:\", cusp_error, \"mm^3\")"
   ]
  },
  {
   "cell_type": "code",
   "execution_count": 1,
   "id": "d344b2c8",
   "metadata": {},
   "outputs": [],
   "source": [
    "#The ideal values of the layer height map and pixel size in the above code depend on the specific additive manufacturing process being used and the requirements of the printed object.In general, the layer height map should be a 2D representation of the printed layer, where the height of each point corresponds to the distance between the layer and the build platform. The pixel size should be chosen to match the resolution of the printing process, which is typically determined by the size of the printing nozzle or the laser beam.For example, if you are using a 3D printer with a nozzle size of 0.4 mm and a layer height of 0.2 mm, you might choose a pixel size of 0.1 mm for the height map. This would give you a resolution of 4 pixels per nozzle width and 2 pixels per layer height.However, it's important to note that the ideal values of the layer height map and pixel size may vary depending on the specific requirements of the printed object. For example, if the object has small features or intricate details, a smaller pixel size may be required to accurately capture these details. Similarly, if the object has large, smooth surfaces, a larger pixel size may be sufficient to capture the overall shape of the object.Ultimately, the ideal values of the layer height map and pixel size should be chosen based on the specific requirements of the additive manufacturing process and the printed object."
   ]
  },
  {
   "cell_type": "code",
   "execution_count": 2,
   "id": "45b88570",
   "metadata": {},
   "outputs": [],
   "source": [
    "#Note: Height Map should be created for every stl file \n",
    "#Which can be found with the Height Map code"
   ]
  },
  {
   "cell_type": "code",
   "execution_count": null,
   "id": "12ede416",
   "metadata": {},
   "outputs": [],
   "source": []
  }
 ],
 "metadata": {
  "kernelspec": {
   "display_name": "Python 3 (ipykernel)",
   "language": "python",
   "name": "python3"
  },
  "language_info": {
   "codemirror_mode": {
    "name": "ipython",
    "version": 3
   },
   "file_extension": ".py",
   "mimetype": "text/x-python",
   "name": "python",
   "nbconvert_exporter": "python",
   "pygments_lexer": "ipython3",
   "version": "3.10.9"
  }
 },
 "nbformat": 4,
 "nbformat_minor": 5
}
