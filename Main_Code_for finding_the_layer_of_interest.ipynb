{
 "cells": [
  {
   "cell_type": "code",
   "execution_count": 76,
   "id": "517df4fd",
   "metadata": {},
   "outputs": [],
   "source": [
    "import numpy as np\n",
    "from stl import mesh\n",
    "import stl"
   ]
  },
  {
   "cell_type": "code",
   "execution_count": 77,
   "id": "a10ea1b3",
   "metadata": {},
   "outputs": [
    {
     "name": "stdout",
     "output_type": "stream",
     "text": [
      "exception (False, \"b'\\\\xd7\\\\xf3?(]ib\\\\x8b\\\\x8d\\\\x8db\\\\x00\\\\x00l\\\\xd0\\\\x125=\\\\x84\\\\x84>\\\\xe0fw?\\\\xc1\\\\xd0\\\\x18b\\\\x90\\\\x03jb\\\\xc4\\\\xc0\\\\x91b' should start with b'facet normal'\")\n"
     ]
    }
   ],
   "source": [
    "import numpy as np\n",
    "import stl\n",
    "from stl import mesh\n",
    "\n",
    "# Load STL file and convert to numpy array\n",
    "stl_mesh = mesh.Mesh.from_file('boom box.stl')\n",
    "vertices = stl_mesh.vectors.reshape(-1, 3)\n",
    "\n",
    "# Calculate the minimum and maximum x, y, and z coordinates\n",
    "x_min, y_min, z_min = np.min(vertices, axis=0)\n",
    "x_max, y_max, z_max = np.max(vertices, axis=0)\n",
    "\n",
    "# Define the resolution of the height map\n",
    "resolution = 100\n",
    "\n",
    "# Generate a grid of x and y values\n",
    "x = np.linspace(x_min, x_max, resolution)\n",
    "y = np.linspace(y_min, y_max, resolution)\n",
    "X, Y = np.meshgrid(x, y)\n",
    "\n",
    "# Interpolate the z values at each point in the grid\n",
    "from scipy.interpolate import griddata\n",
    "Z = griddata(vertices[:, :2], vertices[:, 2], (X, Y), method='linear')\n",
    "\n",
    "# Smooth the height map\n",
    "from scipy.ndimage import gaussian_filter\n",
    "Z_smooth = gaussian_filter(Z, sigma=2)\n",
    "\n",
    "# Save the height map to a file\n",
    "np.save('height_map.npy', Z_smooth)\n",
    "\n",
    "# Load the height map from a file\n",
    "loaded_height_map = np.load('height_map.npy')\n",
    "\n",
    "# Process the height map\n",
    "#processed_height_map = loaded_height_map + 1  # Example processing\n"
   ]
  },
  {
   "cell_type": "code",
   "execution_count": 39,
   "id": "02c369d0",
   "metadata": {},
   "outputs": [
    {
     "name": "stdout",
     "output_type": "stream",
     "text": [
      "exception (False, \"b'\\\\xd7\\\\xf3?(]ib\\\\x8b\\\\x8d\\\\x8db\\\\x00\\\\x00l\\\\xd0\\\\x125=\\\\x84\\\\x84>\\\\xe0fw?\\\\xc1\\\\xd0\\\\x18b\\\\x90\\\\x03jb\\\\xc4\\\\xc0\\\\x91b' should start with b'facet normal'\")\n"
     ]
    }
   ],
   "source": [
    "# Load STL file and convert to numpy array\n",
    "stl_mesh = mesh.Mesh.from_file('boom box.stl')\n",
    "vertices = stl_mesh.vectors.reshape(-1, 3)\n",
    "\n",
    "# Set threshold for cusp error detection\n",
    "threshold = 0.01\n",
    "\n",
    "# Define surface-based modification function\n",
    "def surface_based_modification(vertices, threshold):\n",
    "    num_vertices = len(vertices)\n",
    "    modified_vertices = np.zeros((num_vertices, 3))\n",
    "    \n",
    "    for i in range(num_vertices):\n",
    "        vertex = vertices[i]\n",
    "        neighbors = vertices[np.linalg.norm(vertices - vertex, axis=1) < threshold]\n",
    "        if len(neighbors) > 0:\n",
    "            modified_vertex = np.mean(neighbors, axis=0)\n",
    "            modified_vertices[i] = modified_vertex\n",
    "        else:\n",
    "            modified_vertices[i] = vertex\n",
    "            \n",
    "    # Calculate cusp error for each vertex\n",
    "    cusp_errors = np.linalg.norm(vertices - modified_vertices, axis=1)\n",
    "\n",
    "    # Calculate average cusp error\n",
    "    avg_cusp_error = np.mean(cusp_errors)\n",
    "\n",
    "    print('Average cusp error: ', avg_cusp_error)\n",
    "    \n",
    "    return avg_cusp_error"
   ]
  },
  {
   "cell_type": "code",
   "execution_count": 35,
   "id": "4eab6591",
   "metadata": {},
   "outputs": [
    {
     "data": {
      "text/plain": [
       "54444"
      ]
     },
     "execution_count": 35,
     "metadata": {},
     "output_type": "execute_result"
    }
   ],
   "source": [
    "    num_vertices = len(vertices)\n",
    "    modified_vertices = np.zeros((num_vertices, 3))\n",
    "    num_vertices"
   ]
  },
  {
   "cell_type": "code",
   "execution_count": 11,
   "id": "4e1c05dd",
   "metadata": {},
   "outputs": [
    {
     "name": "stdout",
     "output_type": "stream",
     "text": [
      "exception (False, \"b'\\\\xd7\\\\xf3?(]ib\\\\x8b\\\\x8d\\\\x8db\\\\x00\\\\x00l\\\\xd0\\\\x125=\\\\x84\\\\x84>\\\\xe0fw?\\\\xc1\\\\xd0\\\\x18b\\\\x90\\\\x03jb\\\\xc4\\\\xc0\\\\x91b' should start with b'facet normal'\")\n",
      "Minimum z-coordinate: 0.0\n",
      "Maximum z-coordinate: 76.20000457763672\n"
     ]
    }
   ],
   "source": [
    "layer_of_thickness = 1\n",
    "# Load the STL file\n",
    "stl_mesh = mesh.Mesh.from_file('boom box.stl')\n",
    "\n",
    "# Calculate the minimum and maximum z-coordinates\n",
    "z_min = np.min(stl_mesh.vectors[:,:,2])\n",
    "z_max = np.max(stl_mesh.vectors[:,:,2])\n",
    "\n",
    "print(f\"Minimum z-coordinate: {z_min}\")\n",
    "print(f\"Maximum z-coordinate: {z_max}\")"
   ]
  },
  {
   "cell_type": "code",
   "execution_count": 12,
   "id": "edf52e5c",
   "metadata": {},
   "outputs": [
    {
     "name": "stdout",
     "output_type": "stream",
     "text": [
      "[ 0.  1.  2.  3.  4.  5.  6.  7.  8.  9. 10. 11. 12. 13. 14. 15. 16. 17.\n",
      " 18. 19. 20. 21. 22. 23. 24. 25. 26. 27. 28. 29. 30. 31. 32. 33. 34. 35.\n",
      " 36. 37. 38. 39. 40. 41. 42. 43. 44. 45. 46. 47. 48. 49. 50. 51. 52. 53.\n",
      " 54. 55. 56. 57. 58. 59. 60. 61. 62. 63. 64. 65. 66. 67. 68. 69. 70. 71.\n",
      " 72. 73. 74. 75. 76.]\n"
     ]
    }
   ],
   "source": [
    "Layers = np.arange(z_min, z_max, layer_of_thickness)\n",
    "print(Layers)"
   ]
  },
  {
   "cell_type": "code",
   "execution_count": 13,
   "id": "72587d6a",
   "metadata": {},
   "outputs": [
    {
     "name": "stdout",
     "output_type": "stream",
     "text": [
      "77\n"
     ]
    }
   ],
   "source": [
    "print(len(Layers))"
   ]
  },
  {
   "cell_type": "code",
   "execution_count": 24,
   "id": "3e207d8d",
   "metadata": {},
   "outputs": [],
   "source": [
    "def points_on_layer(vertices, z_height):\n",
    "    points = []\n",
    "    error = 0.05\n",
    "    for vertex in vertices:\n",
    "        if error > np.absolute(vertex[2] - z_height):\n",
    "               points.append(vertex)\n",
    "    return np.array(points) "
   ]
  },
  {
   "cell_type": "code",
   "execution_count": 25,
   "id": "33d11321",
   "metadata": {},
   "outputs": [
    {
     "data": {
      "text/plain": [
       "array([[ 1.0027612e+00,  1.0894220e-14,  9.1910362e-02],\n",
       "       [ 1.0027612e+00,  1.0894220e-14,  9.1910362e-02],\n",
       "       [ 1.2593602e+00,  3.3095496e-18,  2.3156404e-02],\n",
       "       [ 1.2593602e+00,  3.3095496e-18,  2.3156404e-02],\n",
       "       [ 8.7325798e+01, -2.6353974e-18,  2.8945506e-02],\n",
       "       [ 8.7325798e+01, -2.6353974e-18,  2.8945506e-02],\n",
       "       [ 8.7325798e+01, -2.6353974e-18,  2.8945506e-02],\n",
       "       [ 8.7646553e+01, -1.0462180e-17,  1.1488795e-01],\n",
       "       [ 8.7646553e+01, -1.0462180e-17,  1.1488795e-01],\n",
       "       [ 8.7646553e+01, -1.0462180e-17,  1.1488795e-01],\n",
       "       [ 1.5239999e+00,  1.5030107e+02,  3.8586557e-02],\n",
       "       [ 1.5239999e+00,  1.5030107e+02,  3.8586557e-02],\n",
       "       [ 8.6994995e+01,  1.5030107e+02,  3.8586557e-02],\n",
       "       [ 8.6994995e+01,  1.5030107e+02,  3.8586557e-02],\n",
       "       [ 1.5239999e+00,  1.5030107e+02,  3.8586557e-02],\n",
       "       [ 1.5239999e+00,  1.5072873e+02,  1.5318394e-01],\n",
       "       [ 8.6994995e+01,  1.5030107e+02,  3.8586557e-02],\n",
       "       [ 1.5239999e+00,  1.5072873e+02,  1.5318394e-01],\n",
       "       [ 8.6994995e+01,  1.5072873e+02,  1.5318394e-01],\n",
       "       [ 8.6994995e+01,  1.5072873e+02,  1.5318394e-01],\n",
       "       [ 1.5239999e+00,  1.5072873e+02,  1.5318394e-01],\n",
       "       [ 8.6994995e+01,  1.5072873e+02,  1.5318394e-01],\n",
       "       [ 1.2593602e+00,  3.3095496e-18,  2.3156404e-02],\n",
       "       [ 1.2593602e+00,  3.3095496e-18,  2.3156404e-02],\n",
       "       [ 1.2593602e+00,  1.4986000e+02,  2.3156404e-02],\n",
       "       [ 1.2593602e+00,  1.4986000e+02,  2.3156404e-02],\n",
       "       [ 1.2593602e+00,  3.3095496e-18,  2.3156404e-02],\n",
       "       [ 1.0027612e+00,  1.0894220e-14,  9.1910362e-02],\n",
       "       [ 1.2593602e+00,  1.4986000e+02,  2.3156404e-02],\n",
       "       [ 1.0027612e+00,  1.0894220e-14,  9.1910362e-02],\n",
       "       [ 1.0027612e+00,  1.4986000e+02,  9.1910362e-02],\n",
       "       [ 1.0027612e+00,  1.4986000e+02,  9.1910362e-02],\n",
       "       [ 1.0027612e+00,  1.0894220e-14,  9.1910362e-02],\n",
       "       [ 1.0027612e+00,  1.4986000e+02,  9.1910362e-02],\n",
       "       [ 1.0027612e+00,  1.4986000e+02,  9.1910362e-02],\n",
       "       [ 1.0027612e+00,  1.4986000e+02,  9.1910362e-02],\n",
       "       [ 1.0027612e+00,  1.5028511e+02,  1.2910366e-01],\n",
       "       [ 1.0027612e+00,  1.4986000e+02,  9.1910362e-02],\n",
       "       [ 1.0027612e+00,  1.5028511e+02,  1.2910366e-01],\n",
       "       [ 1.2593602e+00,  1.4986000e+02,  2.3156404e-02],\n",
       "       [ 1.2593602e+00,  1.4986000e+02,  2.3156404e-02],\n",
       "       [ 1.0027612e+00,  1.5028511e+02,  1.2910366e-01],\n",
       "       [ 1.2593602e+00,  1.5029704e+02,  6.1392784e-02],\n",
       "       [ 1.2593602e+00,  1.4986000e+02,  2.3156404e-02],\n",
       "       [ 1.2593602e+00,  1.5029704e+02,  6.1392784e-02],\n",
       "       [ 1.2593602e+00,  1.5029704e+02,  6.1392784e-02],\n",
       "       [ 1.5239999e+00,  1.5030107e+02,  3.8586557e-02],\n",
       "       [ 1.0027612e+00,  1.5028511e+02,  1.2910366e-01],\n",
       "       [ 1.0027612e+00,  1.5028511e+02,  1.2910366e-01],\n",
       "       [ 1.0027612e+00,  1.5028511e+02,  1.2910366e-01],\n",
       "       [ 1.2593602e+00,  1.5029704e+02,  6.1392784e-02],\n",
       "       [ 1.2593602e+00,  1.5029704e+02,  6.1392784e-02],\n",
       "       [ 1.2593602e+00,  1.5072081e+02,  1.7493963e-01],\n",
       "       [ 1.2593602e+00,  1.5029704e+02,  6.1392784e-02],\n",
       "       [ 1.2593602e+00,  1.5072081e+02,  1.7493963e-01],\n",
       "       [ 1.5239999e+00,  1.5030107e+02,  3.8586557e-02],\n",
       "       [ 1.5239999e+00,  1.5030107e+02,  3.8586557e-02],\n",
       "       [ 1.2593602e+00,  1.5072081e+02,  1.7493963e-01],\n",
       "       [ 1.5239999e+00,  1.5072873e+02,  1.5318394e-01],\n",
       "       [ 1.2593602e+00,  1.5072081e+02,  1.7493963e-01],\n",
       "       [ 1.2593602e+00,  1.5072081e+02,  1.7493963e-01],\n",
       "       [ 1.2593602e+00,  1.5072081e+02,  1.7493963e-01],\n",
       "       [ 1.5239999e+00,  1.5072873e+02,  1.5318394e-01],\n",
       "       [ 1.5239999e+00,  1.5072873e+02,  1.5318394e-01],\n",
       "       [ 8.7325798e+01,  1.4986000e+02,  2.8945506e-02],\n",
       "       [ 8.7325798e+01,  1.4986000e+02,  2.8945506e-02],\n",
       "       [ 8.7325798e+01, -2.6353974e-18,  2.8945506e-02],\n",
       "       [ 8.7325798e+01, -2.6353974e-18,  2.8945506e-02],\n",
       "       [ 8.7325798e+01,  1.4986000e+02,  2.8945506e-02],\n",
       "       [ 8.7646553e+01,  1.4986000e+02,  1.1488795e-01],\n",
       "       [ 8.7325798e+01, -2.6353974e-18,  2.8945506e-02],\n",
       "       [ 8.7646553e+01,  1.4986000e+02,  1.1488795e-01],\n",
       "       [ 8.7646553e+01, -1.0462180e-17,  1.1488795e-01],\n",
       "       [ 8.7646553e+01, -1.0462180e-17,  1.1488795e-01],\n",
       "       [ 8.7646553e+01,  1.4986000e+02,  1.1488795e-01],\n",
       "       [ 8.7646553e+01, -1.0462180e-17,  1.1488795e-01],\n",
       "       [ 8.6994995e+01,  1.5030107e+02,  3.8586557e-02],\n",
       "       [ 8.7325798e+01,  1.4986000e+02,  2.8945506e-02],\n",
       "       [ 8.7325798e+01,  1.4986000e+02,  2.8945506e-02],\n",
       "       [ 8.6994995e+01,  1.5030107e+02,  3.8586557e-02],\n",
       "       [ 8.7325798e+01,  1.5029605e+02,  6.7092478e-02],\n",
       "       [ 8.7325798e+01,  1.4986000e+02,  2.8945506e-02],\n",
       "       [ 8.7325798e+01,  1.5029605e+02,  6.7092478e-02],\n",
       "       [ 8.7646553e+01,  1.4986000e+02,  1.1488795e-01],\n",
       "       [ 8.7646553e+01,  1.4986000e+02,  1.1488795e-01],\n",
       "       [ 8.7325798e+01,  1.5029605e+02,  6.7092478e-02],\n",
       "       [ 8.7646553e+01,  1.5028111e+02,  1.5173107e-01],\n",
       "       [ 8.7646553e+01,  1.4986000e+02,  1.1488795e-01],\n",
       "       [ 8.7646553e+01,  1.5028111e+02,  1.5173107e-01],\n",
       "       [ 8.7646553e+01,  1.5028111e+02,  1.5173107e-01],\n",
       "       [ 8.6994995e+01,  1.5030107e+02,  3.8586557e-02],\n",
       "       [ 8.6994995e+01,  1.5072873e+02,  1.5318394e-01],\n",
       "       [ 8.7325798e+01,  1.5029605e+02,  6.7092478e-02],\n",
       "       [ 8.7325798e+01,  1.5029605e+02,  6.7092478e-02],\n",
       "       [ 8.6994995e+01,  1.5072873e+02,  1.5318394e-01],\n",
       "       [ 8.7325798e+01,  1.5071884e+02,  1.8037856e-01],\n",
       "       [ 8.7325798e+01,  1.5029605e+02,  6.7092478e-02],\n",
       "       [ 8.7325798e+01,  1.5071884e+02,  1.8037856e-01],\n",
       "       [ 8.7646553e+01,  1.5028111e+02,  1.5173107e-01],\n",
       "       [ 8.7646553e+01,  1.5028111e+02,  1.5173107e-01],\n",
       "       [ 8.7325798e+01,  1.5071884e+02,  1.8037856e-01],\n",
       "       [ 8.7646553e+01,  1.5028111e+02,  1.5173107e-01],\n",
       "       [ 8.6994995e+01,  1.5072873e+02,  1.5318394e-01],\n",
       "       [ 8.7325798e+01,  1.5071884e+02,  1.8037856e-01],\n",
       "       [ 8.7325798e+01,  1.5071884e+02,  1.8037856e-01],\n",
       "       [ 8.7325798e+01,  1.5071884e+02,  1.8037856e-01]], dtype=float32)"
      ]
     },
     "execution_count": 25,
     "metadata": {},
     "output_type": "execute_result"
    }
   ],
   "source": [
    "points_on_layer(vertices, 0.1)"
   ]
  },
  {
   "cell_type": "code",
   "execution_count": 26,
   "id": "0eaa058f",
   "metadata": {},
   "outputs": [
    {
     "data": {
      "text/plain": [
       "array([58.121414, 44.30077 , 74.53851 ], dtype=float32)"
      ]
     },
     "execution_count": 26,
     "metadata": {},
     "output_type": "execute_result"
    }
   ],
   "source": [
    "vertices[0]"
   ]
  },
  {
   "cell_type": "code",
   "execution_count": 27,
   "id": "eb5d64f6",
   "metadata": {},
   "outputs": [
    {
     "name": "stdout",
     "output_type": "stream",
     "text": [
      "Average cusp error:  1.142664653498952e-06\n",
      "Average cusp error:  3.100001103548702e-06\n",
      "Average cusp error:  8.04100821238827e-06\n",
      "Average cusp error:  4.5935442958133045e-06\n",
      "Average cusp error:  4.0609972696273786e-06\n",
      "Average cusp error:  2.730375773691763e-06\n",
      "Average cusp error:  5.710158319720199e-06\n",
      "Average cusp error:  6.269449038854018e-06\n",
      "Average cusp error:  3.6983713304216306e-06\n",
      "Average cusp error:  1.0666394420229285e-05\n",
      "Average cusp error:  3.957131878044142e-06\n",
      "Average cusp error:  4.778935100824235e-06\n",
      "Average cusp error:  3.0268375101523705e-06\n",
      "Average cusp error:  2.4103899797738785e-06\n",
      "Average cusp error:  6.020443812116262e-06\n",
      "Average cusp error:  9.39217347720313e-06\n",
      "Average cusp error:  4.393518651809387e-06\n",
      "Average cusp error:  0.00013106114937345436\n",
      "Average cusp error:  0.00012528511372451742\n",
      "Average cusp error:  5.129327362772611e-06\n",
      "Average cusp error:  4.929704694651886e-06\n",
      "Average cusp error:  4.311094922421396e-06\n",
      "Average cusp error:  2.6059871516994457e-06\n",
      "Average cusp error:  4.463879590597857e-06\n",
      "Average cusp error:  4.032513698562932e-06\n",
      "Average cusp error:  3.2477230014216095e-06\n",
      "Average cusp error:  4.119079712426006e-06\n",
      "Average cusp error:  3.814697265625e-06\n",
      "Average cusp error:  2.169338961772339e-06\n",
      "Average cusp error:  2.9031899552403127e-06\n",
      "Average cusp error:  1.913484244170042e-06\n",
      "Average cusp error:  3.3306043759544903e-06\n",
      "Average cusp error:  2.2106488831694007e-06\n",
      "Average cusp error:  2.4467516936616827e-06\n",
      "Average cusp error:  1.8142983173507793e-06\n",
      "Average cusp error:  1.9236557314676455e-06\n",
      "Average cusp error:  0.0008945205592701813\n",
      "Average cusp error:  2.1833742323827185e-06\n",
      "Average cusp error:  1.5615557351488021e-06\n",
      "Average cusp error:  2.50029718705695e-06\n",
      "Average cusp error:  2.094764814809895e-06\n",
      "Average cusp error:  2.9156057384476636e-06\n",
      "Average cusp error:  0.0013060510423068205\n",
      "Average cusp error:  2.5431315104166665e-06\n",
      "Average cusp error:  2.2182053828818253e-06\n",
      "Average cusp error:  4.896706045088478e-06\n",
      "Average cusp error:  1.7868410313021043e-06\n",
      "Average cusp error:  2.7744668276885674e-06\n",
      "Average cusp error:  3.319874836550423e-06\n",
      "Average cusp error:  0.0\n",
      "Average cusp error:  0.0\n",
      "Average cusp error:  0.0\n",
      "Average cusp error:  1.2715657552083333e-06\n",
      "Average cusp error:  6.229374549314317e-06\n",
      "Average cusp error:  0.0\n",
      "Average cusp error:  1.845821257560484e-06\n",
      "Average cusp error:  1.3426487318639805e-06\n",
      "Average cusp error:  2.0066567032630397e-06\n",
      "Average cusp error:  1.4272962822719945e-05\n",
      "Average cusp error:  0.0\n",
      "Average cusp error:  5.236424141117963e-06\n",
      "Average cusp error:  6.3146398706953536e-06\n",
      "Average cusp error:  0.00012751927179420827\n",
      "Average cusp error:  0.0\n",
      "Average cusp error:  3.166064338068653e-06\n",
      "Average cusp error:  4.793573581266773e-06\n",
      "Average cusp error:  2.269046745606818e-06\n",
      "Average cusp error:  3.0026415733863895e-06\n",
      "Average cusp error:  3.6447889312662445e-06\n"
     ]
    },
    {
     "data": {
      "text/plain": [
       "3.657486195596059e-05"
      ]
     },
     "execution_count": 27,
     "metadata": {},
     "output_type": "execute_result"
    }
   ],
   "source": [
    "cusp_error_on_layer = []\n",
    "\n",
    "for layer in Layers:\n",
    "    #find points on layer \n",
    "    points_layers = points_on_layer(vertices, layer) \n",
    "    if len(points_layers) == 0:\n",
    "        cusp_error_on_layer.append(0)\n",
    "    else:\n",
    "        #find cusp highet of points in list\n",
    "        cusp_height = surface_based_modification(points_layers, 0.01)\n",
    "        cusp_error_on_layer.append(cusp_height)\n",
    "    \n",
    "    #add in list\n",
    "    cusp_error_on_layer.append(cusp_height)\n",
    "    \n",
    "#find average of list \n",
    "np.mean(cusp_error_on_layer)"
   ]
  },
  {
   "cell_type": "code",
   "execution_count": 28,
   "id": "2f83e3ff",
   "metadata": {},
   "outputs": [
    {
     "data": {
      "text/plain": [
       "[1.142664653498952e-06,\n",
       " 1.142664653498952e-06,\n",
       " 3.100001103548702e-06,\n",
       " 3.100001103548702e-06,\n",
       " 8.04100821238827e-06,\n",
       " 8.04100821238827e-06,\n",
       " 0,\n",
       " 8.04100821238827e-06,\n",
       " 4.5935442958133045e-06,\n",
       " 4.5935442958133045e-06,\n",
       " 4.0609972696273786e-06,\n",
       " 4.0609972696273786e-06,\n",
       " 2.730375773691763e-06,\n",
       " 2.730375773691763e-06,\n",
       " 5.710158319720199e-06,\n",
       " 5.710158319720199e-06,\n",
       " 6.269449038854018e-06,\n",
       " 6.269449038854018e-06,\n",
       " 3.6983713304216306e-06,\n",
       " 3.6983713304216306e-06,\n",
       " 1.0666394420229285e-05,\n",
       " 1.0666394420229285e-05,\n",
       " 3.957131878044142e-06,\n",
       " 3.957131878044142e-06,\n",
       " 4.778935100824235e-06,\n",
       " 4.778935100824235e-06,\n",
       " 3.0268375101523705e-06,\n",
       " 3.0268375101523705e-06,\n",
       " 2.4103899797738785e-06,\n",
       " 2.4103899797738785e-06,\n",
       " 6.020443812116262e-06,\n",
       " 6.020443812116262e-06,\n",
       " 9.39217347720313e-06,\n",
       " 9.39217347720313e-06,\n",
       " 4.393518651809387e-06,\n",
       " 4.393518651809387e-06,\n",
       " 0.00013106114937345436,\n",
       " 0.00013106114937345436,\n",
       " 0.00012528511372451742,\n",
       " 0.00012528511372451742,\n",
       " 5.129327362772611e-06,\n",
       " 5.129327362772611e-06,\n",
       " 4.929704694651886e-06,\n",
       " 4.929704694651886e-06,\n",
       " 4.311094922421396e-06,\n",
       " 4.311094922421396e-06,\n",
       " 2.6059871516994457e-06,\n",
       " 2.6059871516994457e-06,\n",
       " 4.463879590597857e-06,\n",
       " 4.463879590597857e-06,\n",
       " 4.032513698562932e-06,\n",
       " 4.032513698562932e-06,\n",
       " 3.2477230014216095e-06,\n",
       " 3.2477230014216095e-06,\n",
       " 4.119079712426006e-06,\n",
       " 4.119079712426006e-06,\n",
       " 3.814697265625e-06,\n",
       " 3.814697265625e-06,\n",
       " 2.169338961772339e-06,\n",
       " 2.169338961772339e-06,\n",
       " 2.9031899552403127e-06,\n",
       " 2.9031899552403127e-06,\n",
       " 1.913484244170042e-06,\n",
       " 1.913484244170042e-06,\n",
       " 3.3306043759544903e-06,\n",
       " 3.3306043759544903e-06,\n",
       " 2.2106488831694007e-06,\n",
       " 2.2106488831694007e-06,\n",
       " 2.4467516936616827e-06,\n",
       " 2.4467516936616827e-06,\n",
       " 1.8142983173507793e-06,\n",
       " 1.8142983173507793e-06,\n",
       " 1.9236557314676455e-06,\n",
       " 1.9236557314676455e-06,\n",
       " 0.0008945205592701813,\n",
       " 0.0008945205592701813,\n",
       " 2.1833742323827185e-06,\n",
       " 2.1833742323827185e-06,\n",
       " 1.5615557351488021e-06,\n",
       " 1.5615557351488021e-06,\n",
       " 2.50029718705695e-06,\n",
       " 2.50029718705695e-06,\n",
       " 2.094764814809895e-06,\n",
       " 2.094764814809895e-06,\n",
       " 2.9156057384476636e-06,\n",
       " 2.9156057384476636e-06,\n",
       " 0.0013060510423068205,\n",
       " 0.0013060510423068205,\n",
       " 2.5431315104166665e-06,\n",
       " 2.5431315104166665e-06,\n",
       " 2.2182053828818253e-06,\n",
       " 2.2182053828818253e-06,\n",
       " 4.896706045088478e-06,\n",
       " 4.896706045088478e-06,\n",
       " 1.7868410313021043e-06,\n",
       " 1.7868410313021043e-06,\n",
       " 2.7744668276885674e-06,\n",
       " 2.7744668276885674e-06,\n",
       " 3.319874836550423e-06,\n",
       " 3.319874836550423e-06,\n",
       " 0.0,\n",
       " 0.0,\n",
       " 0.0,\n",
       " 0.0,\n",
       " 0,\n",
       " 0.0,\n",
       " 0,\n",
       " 0.0,\n",
       " 0,\n",
       " 0.0,\n",
       " 0,\n",
       " 0.0,\n",
       " 0.0,\n",
       " 0.0,\n",
       " 1.2715657552083333e-06,\n",
       " 1.2715657552083333e-06,\n",
       " 0,\n",
       " 1.2715657552083333e-06,\n",
       " 6.229374549314317e-06,\n",
       " 6.229374549314317e-06,\n",
       " 0.0,\n",
       " 0.0,\n",
       " 1.845821257560484e-06,\n",
       " 1.845821257560484e-06,\n",
       " 1.3426487318639805e-06,\n",
       " 1.3426487318639805e-06,\n",
       " 2.0066567032630397e-06,\n",
       " 2.0066567032630397e-06,\n",
       " 0,\n",
       " 2.0066567032630397e-06,\n",
       " 1.4272962822719945e-05,\n",
       " 1.4272962822719945e-05,\n",
       " 0.0,\n",
       " 0.0,\n",
       " 5.236424141117963e-06,\n",
       " 5.236424141117963e-06,\n",
       " 0,\n",
       " 5.236424141117963e-06,\n",
       " 6.3146398706953536e-06,\n",
       " 6.3146398706953536e-06,\n",
       " 0.00012751927179420827,\n",
       " 0.00012751927179420827,\n",
       " 0.0,\n",
       " 0.0,\n",
       " 3.166064338068653e-06,\n",
       " 3.166064338068653e-06,\n",
       " 4.793573581266773e-06,\n",
       " 4.793573581266773e-06,\n",
       " 2.269046745606818e-06,\n",
       " 2.269046745606818e-06,\n",
       " 3.0026415733863895e-06,\n",
       " 3.0026415733863895e-06,\n",
       " 3.6447889312662445e-06,\n",
       " 3.6447889312662445e-06]"
      ]
     },
     "execution_count": 28,
     "metadata": {},
     "output_type": "execute_result"
    }
   ],
   "source": [
    "cusp_error_on_layer"
   ]
  },
  {
   "cell_type": "code",
   "execution_count": 29,
   "id": "ede1d34d",
   "metadata": {},
   "outputs": [
    {
     "name": "stdout",
     "output_type": "stream",
     "text": [
      "3.657486195596059e-05\n"
     ]
    }
   ],
   "source": [
    "#find average of list \n",
    "Threshold_value_of_Cusp = np.mean(cusp_error_on_layer)\n",
    "print(Threshold_value_of_Cusp)"
   ]
  },
  {
   "cell_type": "code",
   "execution_count": 30,
   "id": "32fa6811",
   "metadata": {},
   "outputs": [],
   "source": [
    "layers_to_look_for = []\n",
    "for layers_of_interest in cusp_error_on_layer:\n",
    "    if Threshold_value_of_Cusp < layers_of_interest:\n",
    "        layers_to_look_for.append(layers_of_interest)\n",
    "    \n",
    "    \n",
    "    "
   ]
  },
  {
   "cell_type": "code",
   "execution_count": 31,
   "id": "0c0481f3",
   "metadata": {},
   "outputs": [
    {
     "data": {
      "text/plain": [
       "[0.00013106114937345436,\n",
       " 0.00013106114937345436,\n",
       " 0.00012528511372451742,\n",
       " 0.00012528511372451742,\n",
       " 0.0008945205592701813,\n",
       " 0.0008945205592701813,\n",
       " 0.0013060510423068205,\n",
       " 0.0013060510423068205,\n",
       " 0.00012751927179420827,\n",
       " 0.00012751927179420827]"
      ]
     },
     "execution_count": 31,
     "metadata": {},
     "output_type": "execute_result"
    }
   ],
   "source": [
    "layers_to_look_for"
   ]
  },
  {
   "cell_type": "code",
   "execution_count": 32,
   "id": "cef12a11",
   "metadata": {},
   "outputs": [],
   "source": [
    "number_of_layer1 = []\n",
    "for i in range(len(cusp_error_on_layer)):\n",
    "    if Threshold_value_of_Cusp < cusp_error_on_layer[i]:\n",
    "        number_of_layer1.append(i)"
   ]
  },
  {
   "cell_type": "code",
   "execution_count": 33,
   "id": "59561a3b",
   "metadata": {},
   "outputs": [
    {
     "data": {
      "text/plain": [
       "[36, 37, 38, 39, 74, 75, 86, 87, 140, 141]"
      ]
     },
     "execution_count": 33,
     "metadata": {},
     "output_type": "execute_result"
    }
   ],
   "source": [
    "number_of_layer1"
   ]
  },
  {
   "cell_type": "code",
   "execution_count": null,
   "id": "6f0fadeb",
   "metadata": {},
   "outputs": [],
   "source": []
  },
  {
   "cell_type": "code",
   "execution_count": null,
   "id": "ed3bddf3",
   "metadata": {},
   "outputs": [],
   "source": []
  },
  {
   "cell_type": "code",
   "execution_count": 41,
   "id": "221fce67",
   "metadata": {},
   "outputs": [],
   "source": [
    "(vertices)"
   ]
  },
  {
   "cell_type": "code",
   "execution_count": 46,
   "id": "6e3ad7cd",
   "metadata": {},
   "outputs": [],
   "source": [
    "vertex = vertices[3]\n",
    "neighbors = vertices[np.linalg.norm(vertices - vertex, axis=1) < threshold]"
   ]
  },
  {
   "cell_type": "code",
   "execution_count": 47,
   "id": "09a90b78",
   "metadata": {},
   "outputs": [
    {
     "data": {
      "text/plain": [
       "array([[51.611137, 44.30077 , 74.53851 ],\n",
       "       [51.611137, 44.30077 , 74.53851 ],\n",
       "       [51.611137, 44.30077 , 74.53851 ],\n",
       "       [51.611137, 44.30077 , 74.53851 ],\n",
       "       [51.611137, 44.30077 , 74.53851 ],\n",
       "       [51.611137, 44.30077 , 74.53851 ],\n",
       "       [51.611137, 44.30077 , 74.53851 ],\n",
       "       [51.611137, 44.30077 , 74.53851 ],\n",
       "       [51.611137, 44.30077 , 74.53851 ],\n",
       "       [51.611137, 44.30077 , 74.53851 ],\n",
       "       [51.611137, 44.30077 , 74.53851 ],\n",
       "       [51.611137, 44.30077 , 74.53851 ],\n",
       "       [51.611137, 44.30077 , 74.53851 ],\n",
       "       [51.611137, 44.30077 , 74.53851 ],\n",
       "       [51.611137, 44.30077 , 74.53851 ],\n",
       "       [51.611137, 44.30077 , 74.53851 ]], dtype=float32)"
      ]
     },
     "execution_count": 47,
     "metadata": {},
     "output_type": "execute_result"
    }
   ],
   "source": [
    "neighbors"
   ]
  },
  {
   "cell_type": "code",
   "execution_count": 53,
   "id": "acd577af",
   "metadata": {},
   "outputs": [
    {
     "name": "stdout",
     "output_type": "stream",
     "text": [
      "exception (False, \"b'\\\\xd7\\\\xf3?(]ib\\\\x8b\\\\x8d\\\\x8db\\\\x00\\\\x00l\\\\xd0\\\\x125=\\\\x84\\\\x84>\\\\xe0fw?\\\\xc1\\\\xd0\\\\x18b\\\\x90\\\\x03jb\\\\xc4\\\\xc0\\\\x91b' should start with b'facet normal'\")\n",
      "Minimum z-coordinate: 0.0\n",
      "Maximum z-coordinate: 76.20000457763672\n",
      "[ 0.   0.5  1.   1.5  2.   2.5  3.   3.5  4.   4.5  5.   5.5  6.   6.5\n",
      "  7.   7.5  8.   8.5  9.   9.5 10.  10.5 11.  11.5 12.  12.5 13.  13.5\n",
      " 14.  14.5 15.  15.5 16.  16.5 17.  17.5 18.  18.5 19.  19.5 20.  20.5\n",
      " 21.  21.5 22.  22.5 23.  23.5 24.  24.5 25.  25.5 26.  26.5 27.  27.5\n",
      " 28.  28.5 29.  29.5 30.  30.5 31.  31.5 32.  32.5 33.  33.5 34.  34.5\n",
      " 35.  35.5 36.  36.5 37.  37.5 38.  38.5 39.  39.5 40.  40.5 41.  41.5\n",
      " 42.  42.5 43.  43.5 44.  44.5 45.  45.5 46.  46.5 47.  47.5 48.  48.5\n",
      " 49.  49.5 50.  50.5 51.  51.5 52.  52.5 53.  53.5 54.  54.5 55.  55.5\n",
      " 56.  56.5 57.  57.5 58.  58.5 59.  59.5 60.  60.5 61.  61.5 62.  62.5\n",
      " 63.  63.5 64.  64.5 65.  65.5 66.  66.5 67.  67.5 68.  68.5 69.  69.5\n",
      " 70.  70.5 71.  71.5 72.  72.5 73.  73.5 74.  74.5 75.  75.5 76. ]\n",
      "153\n",
      "Average cusp error:  5.960464477539063e-08\n",
      "Average cusp error:  5.42752883013557e-06\n",
      "Average cusp error:  1.52587890625e-05\n",
      "Average cusp error:  6.502324884588068e-08\n",
      "Average cusp error:  7.62939453125e-06\n",
      "Average cusp error:  4.579871347498547e-06\n",
      "Average cusp error:  0.0\n",
      "Average cusp error:  0.0\n",
      "Average cusp error:  4.76837158203125e-07\n",
      "Average cusp error:  4.044345329825693e-06\n",
      "Average cusp error:  1.5266237824995157e-05\n",
      "Average cusp error:  4.76837158203125e-07\n",
      "Average cusp error:  2.0540677584134614e-06\n",
      "Average cusp error:  2.384185791015625e-07\n",
      "Average cusp error:  1.1488665242280935e-05\n",
      "Average cusp error:  6.44572477833473e-06\n",
      "Average cusp error:  4.76837158203125e-07\n",
      "Average cusp error:  1.145897843450613e-05\n",
      "Average cusp error:  7.62939453125e-06\n",
      "Average cusp error:  7.633118912497578e-06\n",
      "Average cusp error:  0.0\n",
      "Average cusp error:  7.864199877963372e-06\n",
      "Average cusp error:  0.0\n",
      "Average cusp error:  1.1126200358072917e-06\n",
      "Average cusp error:  0.0\n",
      "Average cusp error:  1.45244524099081e-06\n",
      "Average cusp error:  3.814697265625e-06\n",
      "Average cusp error:  4.161487926136363e-06\n",
      "Average cusp error:  3.0755072587198445e-05\n",
      "Average cusp error:  6.222905908064117e-06\n",
      "Average cusp error:  1.7059844799040144e-05\n",
      "Average cusp error:  4.264961199760036e-06\n",
      "Average cusp error:  7.867813110351562e-06\n",
      "Average cusp error:  7.864199877963372e-06\n",
      "Average cusp error:  0.0\n",
      "Average cusp error:  7.633118912497578e-06\n",
      "Average cusp error:  5.939361876901871e-06\n",
      "Average cusp error:  0.0\n",
      "Average cusp error:  1.9073486328125e-06\n",
      "Average cusp error:  7.864199877963372e-06\n",
      "Average cusp error:  2.86102294921875e-06\n",
      "Average cusp error:  5.7220458984375e-06\n",
      "Average cusp error:  1.7873181540825847e-06\n",
      "Average cusp error:  1.9073486328125e-06\n",
      "Average cusp error:  0.0\n",
      "Average cusp error:  1.9073486328125e-06\n",
      "Average cusp error:  5.7220458984375e-06\n",
      "Average cusp error:  3.01750602833921e-06\n",
      "Average cusp error:  1.1979566440989068e-06\n",
      "Average cusp error:  8.58306884765625e-07\n",
      "Average cusp error:  2.677757878328568e-06\n",
      "Average cusp error:  1.1444091796875e-06\n",
      "Average cusp error:  1.494948928420608e-06\n",
      "Average cusp error:  1.5092194523175947e-06\n",
      "Average cusp error:  2.956390380859375e-06\n",
      "Average cusp error:  0.0009419012709902989\n",
      "Average cusp error:  0.0\n",
      "Average cusp error:  1.9720816977195385e-06\n",
      "Average cusp error:  3.9484149938213406e-06\n",
      "Average cusp error:  1.9073486328125e-06\n",
      "Average cusp error:  1.220703125e-06\n",
      "Average cusp error:  2.668066997189928e-06\n",
      "Average cusp error:  0.0\n",
      "Average cusp error:  3.814697265625e-06\n",
      "Average cusp error:  4.6039449757543105e-07\n",
      "Average cusp error:  2.0662943522135415e-06\n",
      "Average cusp error:  2.167441628196023e-06\n",
      "Average cusp error:  0.0002960662748141959\n",
      "Average cusp error:  8.477105034722222e-07\n",
      "Average cusp error:  4.114873221715024e-06\n",
      "Average cusp error:  1.3598689326533564e-06\n",
      "Average cusp error:  0.0\n",
      "Average cusp error:  4.2453888923891125e-06\n",
      "Average cusp error:  2.9802322387695312e-08\n",
      "Average cusp error:  0.0\n",
      "Average cusp error:  1.0403719815340908e-06\n",
      "Average cusp error:  0.0\n",
      "Average cusp error:  0.0\n",
      "Average cusp error:  2.6227789824430875e-06\n",
      "Average cusp error:  8.529922399520072e-06\n",
      "Average cusp error:  5.7220458984375e-06\n",
      "Average cusp error:  6.173240927884431e-06\n",
      "Average cusp error:  0.0005184613826711719\n",
      "Average cusp error:  9.229383437015274e-06\n",
      "Average cusp error:  2.4092824835526314e-06\n",
      "Average cusp error:  0.0\n",
      "Average cusp error:  0.0\n",
      "Average cusp error:  4.395007697451798e-06\n",
      "Average cusp error:  0.0\n",
      "Average cusp error:  3.898300946887918e-06\n",
      "Average cusp error:  2.0708356584821427e-06\n",
      "1.362484158924288e-05\n",
      "[3, 14, 41, 43, 74, 86, 141]\n"
     ]
    }
   ],
   "source": [
    "import numpy as np\n",
    "import stl\n",
    "from stl import mesh\n",
    "\n",
    "# Load STL file and convert to numpy array\n",
    "stl_mesh = mesh.Mesh.from_file('boom box.stl')\n",
    "vertices = stl_mesh.vectors.reshape(-1, 3)\n",
    "\n",
    "# Set threshold for cusp error detection\n",
    "threshold = 0.01\n",
    "\n",
    "# Define surface-based modification function\n",
    "def surface_based_modification(vertices, threshold):\n",
    "    num_vertices = len(vertices)\n",
    "    modified_vertices = np.zeros((num_vertices, 3))\n",
    "    \n",
    "    for i in range(num_vertices):\n",
    "        vertex = vertices[i]\n",
    "        neighbors = vertices[np.linalg.norm(vertices - vertex, axis=1) < threshold]\n",
    "        if len(neighbors) > 0:\n",
    "            modified_vertex = np.mean(neighbors, axis=0)\n",
    "            modified_vertices[i] = modified_vertex\n",
    "        else:\n",
    "            modified_vertices[i] = vertex\n",
    "            \n",
    "    # Calculate cusp error for each vertex\n",
    "    cusp_errors = np.linalg.norm(vertices - modified_vertices, axis=1)\n",
    "\n",
    "    # Calculate average cusp error\n",
    "    avg_cusp_error = np.mean(cusp_errors)\n",
    "\n",
    "    print('Average cusp error: ', avg_cusp_error)\n",
    "    \n",
    "    return avg_cusp_error\n",
    "layer_of_thickness = .5\n",
    "# Calculate the minimum and maximum z-coordinates\n",
    "z_min = np.min(stl_mesh.vectors[:,:,2])\n",
    "z_max = np.max(stl_mesh.vectors[:,:,2])\n",
    "\n",
    "print(f\"Minimum z-coordinate: {z_min}\")\n",
    "print(f\"Maximum z-coordinate: {z_max}\")\n",
    "\n",
    "Layers = np.arange(z_min, z_max, layer_of_thickness)\n",
    "print(Layers)\n",
    "print(len(Layers))\n",
    "cusp_error_on_layer = []\n",
    "\n",
    "for layer in Layers:\n",
    "    # Find points on layer \n",
    "    points_layers = vertices[np.abs(vertices[:,2] - layer) < threshold]\n",
    "    \n",
    "    if len(points_layers) == 0:\n",
    "        cusp_error_on_layer.append(0)\n",
    "    else:\n",
    "        # Find cusp height of points in list\n",
    "        cusp_height = surface_based_modification(points_layers, 0.01)\n",
    "        cusp_error_on_layer.append(cusp_height)\n",
    "    \n",
    "# Calculate the threshold value of cusp error\n",
    "Threshold_value_of_Cusp = np.mean(cusp_error_on_layer)\n",
    "print(Threshold_value_of_Cusp)\n",
    "\n",
    "layers_to_look_for = []\n",
    "for index, layer in enumerate(Layers):\n",
    "    cusp_height = cusp_error_on_layer[index]\n",
    "    if cusp_height > Threshold_value_of_Cusp:\n",
    "        layers_to_look_for.append(index)\n",
    "\n",
    "print(layers_to_look_for)\n"
   ]
  },
  {
   "cell_type": "code",
   "execution_count": null,
   "id": "1a06008a",
   "metadata": {},
   "outputs": [],
   "source": []
  },
  {
   "cell_type": "code",
   "execution_count": null,
   "id": "0394efd7",
   "metadata": {},
   "outputs": [],
   "source": []
  },
  {
   "cell_type": "code",
   "execution_count": null,
   "id": "ec1e0915",
   "metadata": {},
   "outputs": [],
   "source": []
  },
  {
   "cell_type": "code",
   "execution_count": null,
   "id": "80af84cf",
   "metadata": {},
   "outputs": [],
   "source": []
  },
  {
   "cell_type": "code",
   "execution_count": null,
   "id": "dbadb18c",
   "metadata": {},
   "outputs": [],
   "source": []
  },
  {
   "cell_type": "code",
   "execution_count": null,
   "id": "661ec741",
   "metadata": {},
   "outputs": [],
   "source": []
  },
  {
   "cell_type": "code",
   "execution_count": null,
   "id": "168c4bed",
   "metadata": {},
   "outputs": [],
   "source": []
  },
  {
   "cell_type": "code",
   "execution_count": null,
   "id": "094a2387",
   "metadata": {},
   "outputs": [],
   "source": []
  },
  {
   "cell_type": "code",
   "execution_count": null,
   "id": "6f009fb1",
   "metadata": {},
   "outputs": [],
   "source": []
  }
 ],
 "metadata": {
  "kernelspec": {
   "display_name": "Python 3 (ipykernel)",
   "language": "python",
   "name": "python3"
  },
  "language_info": {
   "codemirror_mode": {
    "name": "ipython",
    "version": 3
   },
   "file_extension": ".py",
   "mimetype": "text/x-python",
   "name": "python",
   "nbconvert_exporter": "python",
   "pygments_lexer": "ipython3",
   "version": "3.10.9"
  }
 },
 "nbformat": 4,
 "nbformat_minor": 5
}
